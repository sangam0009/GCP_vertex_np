{
 "cells": [
  {
   "cell_type": "markdown",
   "id": "7cdad542-6470-4afe-8fe1-f502d2e1d0de",
   "metadata": {},
   "source": [
    "# House Price Prediction"
   ]
  },
  {
   "cell_type": "code",
   "execution_count": 9,
   "id": "3f4e8639-3f6f-41bb-803b-93af2790475e",
   "metadata": {},
   "outputs": [],
   "source": [
    "import pandas as pd\n",
    "import numpy as np\n",
    "\n",
    "import google.cloud.aiplatform as aip\n",
    "from google.cloud import storage\n",
    "import gcsfs\n",
    "\n",
    "from typing import NamedTuple\n",
    "\n",
    "from kfp.v2 import dsl\n",
    "from kfp.v2.dsl import (Artifact,\n",
    "                        Dataset,\n",
    "                        Input,\n",
    "                        Model,\n",
    "                        Output,\n",
    "                        Metrics,\n",
    "                        ClassificationMetrics,\n",
    "                        component, \n",
    "                        Markdown)\n",
    "\n",
    "from kfp.v2 import compiler\n"
   ]
  },
  {
   "cell_type": "code",
   "execution_count": 4,
   "id": "52413f7f-abe2-43b9-b6a9-183a304dddf0",
   "metadata": {},
   "outputs": [],
   "source": [
    "BUCKET_URI = 'gs://mle-gcp-tbk-1'\n",
    "PIPELINE_ROOT = \"{}/pipeline_root/house_price\".format(BUCKET_URI)"
   ]
  },
  {
   "cell_type": "code",
   "execution_count": 5,
   "id": "c337c0ca-e93f-4338-8aa7-c3cb9c0a1cad",
   "metadata": {},
   "outputs": [],
   "source": [
    "PROJECT_ID = \"tiger-mle\"\n",
    "REGION = \"us-east1\"\n",
    "ZONE = \"\""
   ]
  },
  {
   "cell_type": "code",
   "execution_count": 6,
   "id": "422bbf8a-f72a-4f2a-9cde-4d73068bf004",
   "metadata": {},
   "outputs": [
    {
     "name": "stdout",
     "output_type": "stream",
     "text": [
      "Updated property [core/project].\n",
      "Updated property [compute/region].\n"
     ]
    }
   ],
   "source": [
    "! gcloud config set project $PROJECT_ID\n",
    "! gcloud config set compute/region $REGION"
   ]
  },
  {
   "cell_type": "code",
   "execution_count": 7,
   "id": "d258a169-0fdd-4a19-af91-7921c67f098a",
   "metadata": {},
   "outputs": [
    {
     "name": "stdout",
     "output_type": "stream",
     "text": [
      "                  Credentialed Accounts\n",
      "ACTIVE  ACCOUNT\n",
      "*       378786916136-compute@developer.gserviceaccount.com\n",
      "\n",
      "To set the active account, run:\n",
      "    $ gcloud config set account `ACCOUNT`\n",
      "\n"
     ]
    }
   ],
   "source": [
    "!gcloud auth list"
   ]
  },
  {
   "cell_type": "code",
   "execution_count": 8,
   "id": "5c6d1ae4-a9dd-4a46-96ec-97079bc97858",
   "metadata": {},
   "outputs": [],
   "source": [
    "project_id = 'tiger-mle'\n",
    "file_uri = 'gs://vertex-ai-bucket-house-price-pred/data_base/housing.csv'"
   ]
  },
  {
   "cell_type": "markdown",
   "id": "24117d36-219a-43b2-bb7f-dbfa10b39530",
   "metadata": {},
   "source": [
    "### Reading data from GCP Bucket"
   ]
  },
  {
   "cell_type": "code",
   "execution_count": 12,
   "id": "1041ce6a-1579-4b52-be21-496c55348ed7",
   "metadata": {
    "tags": []
   },
   "outputs": [],
   "source": [
    "@component(packages_to_install=['gcsfs==2022.02.0','pandas==1.1.4','scikit-learn==1.0.1'])\n",
    "def get_data(project_id: str,file_uri: str,house_dataset: Output[Dataset]):\n",
    "    import gcsfs\n",
    "    import pandas as pd\n",
    "    from sklearn.model_selection import train_test_split as tts\n",
    "    \n",
    "    fs = gcsfs.GCSFileSystem()\n",
    "    f = fs.open(file_uri)\n",
    "    df = pd.read_csv(f)\n",
    "    \n",
    "    \"\"\"train, test = tts(df, test_size=0.3)\n",
    "    \n",
    "    train.to_csv(dataset_train.path)\n",
    "    test.to_csv(dataset_test.path)\"\"\"\n",
    "    \n",
    "    df.to_csv(house_dataset.path)\n",
    "    #return df"
   ]
  },
  {
   "cell_type": "markdown",
   "id": "03a828e3-5841-48d9-95b2-c853ec6cf092",
   "metadata": {},
   "source": [
    "### Preprocessing the data"
   ]
  },
  {
   "cell_type": "code",
   "execution_count": 17,
   "id": "227bb545-56fd-4d4b-a58f-2e789609b910",
   "metadata": {},
   "outputs": [],
   "source": [
    "@component(  packages_to_install = [\n",
    "        \"pandas==1.3.4\",\n",
    "        \"xgboost==1.5.1\",\n",
    "        \"scikit-learn==1.0.1\",\n",
    "    ],\n",
    ")\n",
    "def preprocess(\n",
    "        dataset: Input[Dataset],\n",
    "        dataset_train: Output[Dataset],\n",
    "        dataset_test: Output[Dataset]):\n",
    "    import pandas as pd\n",
    "    from sklearn.model_selection import train_test_split as tts\n",
    "    \n",
    "    housing = pd.read_csv(dataset.path)\n",
    "    print('ok')\n",
    "    \n",
    "    #train_set, test_set = tts(data, test_size=0.2, random_state=42)\n",
    "    \n",
    "    \n",
    "    imputer = SimpleImputer(strategy=\"median\")\n",
    "\n",
    "    housing_num = housing.drop(\"ocean_proximity\", axis=1)\n",
    "\n",
    "    imputer.fit(housing_num)\n",
    "    X = imputer.transform(housing_num)\n",
    "    \n",
    "    housing_num[\"income_cat\"] = pd.cut(\n",
    "        housing_num[\"median_income\"],\n",
    "        bins=[0.0, 1.5, 3.0, 4.5, 6.0, np.inf],\n",
    "        labels=[1, 2, 3, 4, 5]\n",
    "    )\n",
    "\n",
    "    split = StratifiedShuffleSplit(n_splits=1, test_size=0.2, random_state=42)\n",
    "    for train_index, test_index in split.split(housing_num, housing_num[\"income_cat\"]):\n",
    "        strat_train_set = housing_num.loc[train_index]\n",
    "        strat_test_set = housing_num.loc[test_index]\n",
    "        \n",
    "    strat_train_set.to_csv(dataset_train.path)\n",
    "    strat_test_set.to_csv(dataset_test.path)"
   ]
  },
  {
   "cell_type": "markdown",
   "id": "13a68335-8832-4038-b99f-94743a13fc91",
   "metadata": {},
   "source": [
    "### Building a Pipeline"
   ]
  },
  {
   "cell_type": "code",
   "execution_count": 100,
   "id": "b2185b01-6563-46b8-ba3e-e7eca39f262f",
   "metadata": {},
   "outputs": [],
   "source": [
    "@dsl.pipeline(\n",
    "    name=\"house-price-pred\",\n",
    "    description=\"House prediction\",\n",
    "    pipeline_root=PIPELINE_ROOT,\n",
    ")\n",
    "def pipeline(project_id: str = 'tiger-mle',\n",
    "                 file_uri: str = 'gs://vertex-ai-bucket-house-price-pred/data_base/housing.csv'):\n",
    "    get_data_op = get_data(project_id,file_uri)\n",
    "    pipe_preprocess = preprocess(get_data_op.outputs['house_dataset'])"
   ]
  },
  {
   "cell_type": "markdown",
   "id": "e598f5ea-8755-4389-a863-c6c255922ba4",
   "metadata": {},
   "source": [
    "### Complie"
   ]
  },
  {
   "cell_type": "code",
   "execution_count": 101,
   "id": "1c459a02-75a9-4453-b105-24712ae9700d",
   "metadata": {},
   "outputs": [],
   "source": [
    "from kfp.v2 import compiler  # noqa: F811\n",
    "\n",
    "compiler.Compiler().compile(pipeline_func=pipeline, package_path=\"house_pipeline.json\")"
   ]
  },
  {
   "cell_type": "code",
   "execution_count": 44,
   "id": "d83b5c62-8eb6-4f1f-b770-ac8ae9b1e987",
   "metadata": {},
   "outputs": [],
   "source": [
    "from datetime import datetime\n",
    "\n",
    "TIMESTAMP = datetime.now().strftime(\"%Y%m%d%H%M%S\")"
   ]
  },
  {
   "cell_type": "markdown",
   "id": "0ddee691-c483-4aaf-8289-4769150b099f",
   "metadata": {},
   "source": [
    "### Run the job"
   ]
  },
  {
   "cell_type": "code",
   "execution_count": 102,
   "id": "ec041503-a582-471e-a5b1-419164ca4a0f",
   "metadata": {},
   "outputs": [
    {
     "name": "stdout",
     "output_type": "stream",
     "text": [
      "INFO:google.cloud.aiplatform.pipeline_jobs:Creating PipelineJob\n",
      "INFO:google.cloud.aiplatform.pipeline_jobs:PipelineJob created. Resource name: projects/378786916136/locations/us-central1/pipelineJobs/house-price-pred-20220511165419\n",
      "INFO:google.cloud.aiplatform.pipeline_jobs:To use this PipelineJob in another session:\n",
      "INFO:google.cloud.aiplatform.pipeline_jobs:pipeline_job = aiplatform.PipelineJob.get('projects/378786916136/locations/us-central1/pipelineJobs/house-price-pred-20220511165419')\n",
      "INFO:google.cloud.aiplatform.pipeline_jobs:View Pipeline Job:\n",
      "https://console.cloud.google.com/vertex-ai/locations/us-central1/pipelines/runs/house-price-pred-20220511165419?project=378786916136\n",
      "INFO:google.cloud.aiplatform.pipeline_jobs:PipelineJob projects/378786916136/locations/us-central1/pipelineJobs/house-price-pred-20220511165419 current state:\n",
      "PipelineState.PIPELINE_STATE_RUNNING\n",
      "INFO:google.cloud.aiplatform.pipeline_jobs:PipelineJob projects/378786916136/locations/us-central1/pipelineJobs/house-price-pred-20220511165419 current state:\n",
      "PipelineState.PIPELINE_STATE_RUNNING\n",
      "INFO:google.cloud.aiplatform.pipeline_jobs:PipelineJob projects/378786916136/locations/us-central1/pipelineJobs/house-price-pred-20220511165419 current state:\n",
      "PipelineState.PIPELINE_STATE_RUNNING\n",
      "INFO:google.cloud.aiplatform.pipeline_jobs:PipelineJob projects/378786916136/locations/us-central1/pipelineJobs/house-price-pred-20220511165419 current state:\n",
      "PipelineState.PIPELINE_STATE_RUNNING\n",
      "INFO:google.cloud.aiplatform.pipeline_jobs:PipelineJob projects/378786916136/locations/us-central1/pipelineJobs/house-price-pred-20220511165419 current state:\n",
      "PipelineState.PIPELINE_STATE_RUNNING\n",
      "INFO:google.cloud.aiplatform.pipeline_jobs:PipelineJob run completed. Resource name: projects/378786916136/locations/us-central1/pipelineJobs/house-price-pred-20220511165419\n"
     ]
    }
   ],
   "source": [
    "DISPLAY_NAME = \"intro_\" + TIMESTAMP\n",
    "\n",
    "job = aip.PipelineJob(\n",
    "    display_name=DISPLAY_NAME,\n",
    "    template_path=\"house_pipeline.json\",\n",
    "    pipeline_root=PIPELINE_ROOT,\n",
    ")\n",
    "\n",
    "job.run()"
   ]
  },
  {
   "cell_type": "code",
   "execution_count": null,
   "id": "71b55254-30b2-4320-b298-da0afe9c6f0b",
   "metadata": {},
   "outputs": [],
   "source": []
  }
 ],
 "metadata": {
  "environment": {
   "kernel": "python3",
   "name": "tf2-gpu.2-8.m91",
   "type": "gcloud",
   "uri": "gcr.io/deeplearning-platform-release/tf2-gpu.2-8:m91"
  },
  "kernelspec": {
   "display_name": "Python 3",
   "language": "python",
   "name": "python3"
  },
  "language_info": {
   "codemirror_mode": {
    "name": "ipython",
    "version": 3
   },
   "file_extension": ".py",
   "mimetype": "text/x-python",
   "name": "python",
   "nbconvert_exporter": "python",
   "pygments_lexer": "ipython3",
   "version": "3.7.12"
  }
 },
 "nbformat": 4,
 "nbformat_minor": 5
}
